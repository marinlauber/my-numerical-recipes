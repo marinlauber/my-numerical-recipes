{
 "cells": [
  {
   "cell_type": "markdown",
   "metadata": {},
   "source": [
    "<center><h1>Compact Schemes\n",
    "</h1></center>"
   ]
  },
  {
   "cell_type": "markdown",
   "metadata": {},
   "source": [
    "<center>Marin Lauber, 2019</center>"
   ]
  },
  {
   "cell_type": "code",
   "execution_count": 1,
   "metadata": {},
   "outputs": [],
   "source": [
    "import numpy as np\n",
    "import matplotlib.pyplot as plt\n",
    "try:\n",
    "    plt.style.use(\"jupyter\")\n",
    "except OSError:\n",
    "    print(\"Delaut syle in use\")"
   ]
  },
  {
   "cell_type": "markdown",
   "metadata": {},
   "source": [
    "### Compact Schemes\n",
    "\n",
    "On uniform grid, different types of schemes can be derived. Using polynomila fitting and the value of the derivative at neighbouring points, compact schemes can be derived. The main advantage of such schemes is the small width of the stencil compared to starndard central-difference schemes (central difference schemes have stencils whose width is half of the order of the leading truncation error term, see [here](https://en.wikipedia.org/wiki/Finite_difference_coefficient) and [here](https://www.sciencedirect.com/science/article/pii/S0045793012000138) for examples).\n",
    "\n",
    "Compact and Pade schemes have the form\n",
    "\n",
    "\\begin{equation}\n",
    "    \\beta f_{i+2}' + \\alpha f_{i+1}' + f_{i}' + \\alpha f_{i-1}' +\\beta f_{i-2}'=   a\\frac{f_{i+1} - f_{i-1}}{2 \\Delta x} + b\\frac{f_{i+2} - f_{i-2}}{4 \\Delta x} + c\\frac{f_{i+3} - f_{i-3}}{6\\Delta x}\n",
    "\\end{equation}\n",
    "\n",
    "where the different coefficients are given by, depending on the order required (taken from Ferziger and Peric's great [book](http://www.cfd-peric.de)). You can also build them for [high-order derivatives](https://www.sciencedirect.com/science/article/pii/002199919290324R)\n",
    "\n",
    "| Scheme | Truncation error | $\\alpha$ | $\\beta$ | $a$ | $b$ | $c$ |\n",
    "| - | - | - | - | - | - | - | \n",
    "| CDS-2 | $\\frac{(\\Delta x)^2}{3!}\\frac{\\partial^3 f}{\\partial x^3}$ | 0 | 0 | $1$ | 0 | 0 | \n",
    "| CDS-4 | $\\frac{13(\\Delta x)^4}{3\\cdot3!}\\frac{\\partial^5 f}{\\partial x^5}$ | 0 | 0 | $\\frac{4}{3}$ | $-\\frac{1}{3}$ | 0 |\n",
    "| PADE-4 | $\\frac{(\\Delta x)^4}{5!}\\frac{\\partial^5 f}{\\partial x^5}$ | $\\frac{1}{4}$ | 0 | $\\frac{3}{2}$ |  0 | 0 |\n",
    "| PADE-6 | $\\frac{4(\\Delta x)^6}{7!}\\frac{\\partial^7 f}{\\partial x^7}$ | $\\frac{1}{3}$ | 0 | $\\frac{14}{9}$ | $\\frac{1}{9}$ |  0 | \n",
    "\n",
    "\n",
    "Pade schemes result in a system of equations of the form\n",
    "\n",
    "\\begin{equation}\n",
    "    \\bf{Ax= b}, \n",
    "\\end{equation}\n",
    "\n",
    "where $\\bf{x}$ is understood to be a vector of the derivative of the function at the discrete points and $\\bf{A}$ is a sparse coefficient matrix, depending on the scheme used. It is the identity matrix for non-Pade-like schemes and is tri-diagonal, circulant for Pade schemes on periodic functions. In Pade-type schemes, finding the derivative requires solving the system of linear equations to find\n",
    "\n",
    "\\begin{equation}\n",
    "    \\bf{x = A^{-1} b}.\n",
    "\\end{equation}\n",
    "\n",
    "For periodic functions, the matrix $\\bf{A}$ is tri-diagonal circulant, this can be efficiently solved using fast Fourier transforms (FFT), using the nice properties of circulant matrix (circulant convolution theorem). Effectively, looking at the linear system $\\bf{Ax= b}$ and assuming a Pade scheme, $\\bf{A}$ has the form\n",
    "\n",
    "\\begin{equation}\n",
    "\\bf{A}=\\begin{bmatrix}\n",
    "1 & \\alpha & & & & & \\alpha \\\\\n",
    "\\alpha & 1 & \\alpha & & & & \\\\\n",
    " & \\alpha & 1 & \\alpha & & & \\\\\n",
    " & & \\alpha & 1 & \\alpha & & \\\\\n",
    "  & & & \\alpha & 1 & \\alpha & \\\\\n",
    " & & & & \\alpha & 1 & \\alpha \\\\\n",
    "\\alpha & & & & & \\alpha & 1 \\\\\n",
    "\\end{bmatrix},\n",
    "\\end{equation}\n",
    "\n",
    "with all empty entries beeing zero. The vector of unkown, $\\bf{b}$, has the form\n",
    "\n",
    "\\begin{equation}\n",
    "\\bf{b}=\\begin{Bmatrix}\n",
    "f_{0}' & f_{1}' & f_{2}' & \\cdots & f_{n-1}' & f_{n}'\n",
    "\\end{Bmatrix}^\\top,\n",
    "\\end{equation}\n",
    "\n",
    "thus, looking at the first two entry of this product we have\n",
    "\n",
    "\\begin{equation}\n",
    "\\begin{split}\n",
    "    ({\\bf Ax})_0 & = f_{0}' + \\alpha f_{1}' + 0\\cdot f_{2}' + \\cdots + 0\\cdot f_{n-1}' + \\alpha f_{n}', \\\\\n",
    "    ({\\bf Ax})_1 & = \\alpha f_{0}' + f_{1}' + \\alpha f_{2}' + \\cdots + 0\\cdot f_{n-1}' + 0\\cdot f_{n}',\\\\\n",
    "\\end{split}\n",
    "\\end{equation}\n",
    "\n",
    "which is easily recognise when written as a sum\n",
    "\n",
    "\\begin{equation}\n",
    "    ({\\bf Ax})_k = \\sum_{j=0}^{n} a_{j-k} x_{j} = {\\bf a \\star b}.\n",
    "\\end{equation}\n",
    "\n",
    "This is a circular convolution between the first row of $\\bf A$ and ${\\bf x}$. To avoid issues, the index $j-k$ are understood to be periodic. This can be very efficiently evaluated in Fourier space using the convolution theorem\n",
    "\n",
    "\\begin{equation}\n",
    "    {\\bf a \\star x} = \\mathcal{F}^{-1}\\left(\\mathcal{F}(\\bf{a}) \\mathcal{F}(\\bf{x})\\right),\n",
    "\\end{equation}\n",
    "\n",
    "where $\\mathcal{F}$ is a forward FFT and $\\bf{a}$ is the first row of $\\bf{A}$. This is much faster than Gaussian elimination or LU decomposition. Applying this to our linear system, we get for the vector of unknow derivatives\n",
    "\n",
    "\\begin{equation}\n",
    "    \\bf{x} = \\mathcal{F}^{-1}\\left(\\frac{\\mathcal{F}(\\bf{b})}{\\mathcal{F}(\\bf{a})}\\right).\n",
    "\\end{equation}\n",
    "\n",
    "In this case we can also use the fact that our output must be real, and use the Hermitan symmetry properties of the fourier coefficients, this saves us some addtionnal computations and storage."
   ]
  },
  {
   "cell_type": "code",
   "execution_count": 2,
   "metadata": {},
   "outputs": [],
   "source": [
    "def Compact(f, dx, scheme=\"CDS-2\", timeit=False):\n",
    "    \"\"\"\n",
    "    Second, fourth- and sixth-order compact scheme for first derivative of periodic field a:\n",
    "    \n",
    "    alpha*f'(i+1) + f'(i) + alpha*f'(i-1) = a*(f(i+1) - f(i-1)) + b*(f(i+2)  f(i-2))\n",
    "    \n",
    "    For Pade schemes, this results in a circulant tridiagonal matrix system which can \n",
    "    be solved using properties of the convolution and FFTs.\n",
    "    \n",
    "    Paramaters:\n",
    "        a     : array of float\n",
    "                values of the fiels at the grid points the array is assumed periodic\n",
    "                such that the periodic point is NOT included\n",
    "        dx    : float\n",
    "                grid spacing, must be constant\n",
    "        scheme: character string\n",
    "                desired scheme, default is CDS-2\n",
    "    Output:\n",
    "        diff : array of float\n",
    "               first derivative of the field\n",
    "    \n",
    "    Example:\n",
    "        x,dx=np.linspace(0,2*np.pi,1000,endpoint=False,retstep=True)\n",
    "        f=np.cos(x)\n",
    "        df=-np.sin(x)\n",
    "        print(np.allclose(Compact(f,dx, \"PADE-4\"),df))\n",
    "    \"\"\"\n",
    "    \n",
    "    # standard parameters for CDS-2\n",
    "    alpha = 0.\n",
    "    a  = 1./(2.*dx)\n",
    "    b = 0.\n",
    "    \n",
    "    # adjust params otherwise\n",
    "    if scheme == \"CDS-4\":\n",
    "        alpha = 0.\n",
    "        a  = 2./(3.*dx)\n",
    "        b = -1./(12.*dx)\n",
    "    if scheme == \"PADE-4\":\n",
    "        alpha = 0.25\n",
    "        a  = 3./(4.*dx)\n",
    "        b = 0.\n",
    "    if scheme == \"PADE-6\":\n",
    "        alpha = 1./3.\n",
    "        a  = 14./(18.*dx)\n",
    "        b = 1./(36.*dx)\n",
    "    \n",
    "    # temp array\n",
    "    sol = np.empty_like(f)\n",
    "    \n",
    "    # compact scheme on interior points\n",
    "    sol[2:-2] = a * (f[3:-1] - f[1:-3]) + b * (f[4:] - f[:-4])\n",
    "    \n",
    "    # boundary points\n",
    "    sol[-2] = a * (f[-1] - f[-3]) + b * (f[0] - f[-4])\n",
    "    sol[-1] = a * (f[ 0] - f[-2]) + b * (f[1] - f[-3])\n",
    "    sol[ 0] = a * (f[ 1] - f[-1]) + b * (f[2] - f[-2])\n",
    "    sol[ 1] = a * (f[ 2] - f[ 0]) + b * (f[3] - f[-1])\n",
    "    \n",
    "    # return\n",
    "    if alpha == 0.:\n",
    "\n",
    "        return sol\n",
    "\n",
    "    else:\n",
    "        # build first row of circulant Pade coefficients matrix\n",
    "        A = np.hstack((1., alpha, [0.*j for j in range(len(f)-3)], alpha))\n",
    "\n",
    "        # solve tri-diagonal system using FFTs and circulant matrix properties\n",
    "        diff = np.fft.irfft(np.fft.rfft(sol)/np.fft.rfft(A))\n",
    "        \n",
    "    if timeit == True:\n",
    "        \n",
    "        import timeit\n",
    "        from scipy import sparse\n",
    "        \n",
    "        %timeit np.fft.irfft(np.fft.rfft(sol)/np.fft.rfft(A))\n",
    "        \n",
    "        # build ugly matrix by hand\n",
    "        A = sparse.diags([alpha,1,alpha],[-1,0,1],shape=(len(f),len(f))).toarray()\n",
    "        A[ 0,-1] = alpha\n",
    "        A[-1, 0] = alpha\n",
    "        \n",
    "        %timeit np.linalg.solve(A, sol)\n",
    "   \n",
    "    return diff"
   ]
  },
  {
   "cell_type": "markdown",
   "metadata": {},
   "source": [
    "To test our implementation we use a know periodic function (and its derivative)\n",
    "\n",
    "\\begin{equation}\n",
    "\\begin{split}\n",
    "    f & = \\cos(x), \\\\\n",
    "    f'& = -\\sin(x). \n",
    "\\end{split}\n",
    "\\end{equation}\n",
    "\n",
    "This is discretized on a $2\\pi$ grid, with $N=1000$ points."
   ]
  },
  {
   "cell_type": "code",
   "execution_count": 3,
   "metadata": {},
   "outputs": [
    {
     "name": "stdout",
     "output_type": "stream",
     "text": [
      "True\n",
      "True\n",
      "True\n",
      "True\n"
     ]
    }
   ],
   "source": [
    "x, dx= np.linspace(0, 2*np.pi, 1000, endpoint=False, retstep=True)\n",
    "f = np.cos(x)\n",
    "df = -np.sin(x)\n",
    "for scheme in [\"CDS-2\",\"CDS-4\",\"PADE-4\",\"PADE-6\"]:\n",
    "    print(np.allclose(Compact(f, dx, scheme), df))"
   ]
  },
  {
   "cell_type": "markdown",
   "metadata": {},
   "source": [
    "Using the `timeit=True` flag we can compare the convolution method against a standard `np.linalg.solve`, which uses a LU decomposition (packed in the LAPACK routine `_gesv`). We will use our previous function and dump the result to a dummy array."
   ]
  },
  {
   "cell_type": "code",
   "execution_count": 4,
   "metadata": {},
   "outputs": [
    {
     "name": "stdout",
     "output_type": "stream",
     "text": [
      "130 µs ± 31.7 µs per loop (mean ± std. dev. of 7 runs, 10000 loops each)\n",
      "35.7 ms ± 7.15 ms per loop (mean ± std. dev. of 7 runs, 10 loops each)\n"
     ]
    }
   ],
   "source": [
    "_ = Compact(f, dx, \"PADE-6\", timeit=True)"
   ]
  },
  {
   "cell_type": "markdown",
   "metadata": {},
   "source": [
    "The convolution-based method is roughly 350 times faster than the standard LU decomposition!"
   ]
  },
  {
   "cell_type": "markdown",
   "metadata": {},
   "source": [
    "---\n",
    "\n",
    "## Order or accuracy\n",
    "\n",
    "The Gaussian profile with a mean $\\nu$ and a variance $\\sigma^2$ is defined as\n",
    "\n",
    "\\begin{equation}\n",
    "    \\mathcal{N}(x | \\nu, \\sigma^2) = \\frac{1}{\\sigma\\sqrt{2\\pi}}e^{\\frac{-(x-\\nu)^2}{2\\sigma^2}}.\n",
    "\\end{equation}"
   ]
  },
  {
   "cell_type": "code",
   "execution_count": 5,
   "metadata": {},
   "outputs": [],
   "source": [
    "def Gaussian(x, v=3., sigma=1.):\n",
    "    return np.exp(-(x - v)**2 / (2 * sigma**2)) / (np.sqrt(2 * np.pi)* sigma)"
   ]
  },
  {
   "cell_type": "markdown",
   "metadata": {},
   "source": [
    "It's derivative can be computed analytically\n",
    "\n",
    "\\begin{equation}\n",
    "    \\frac{d}{dx}\\mathcal{N}(x | \\nu, \\sigma^2) = \\frac{-(x-\\nu)^2}{\\sigma^3\\sqrt{2\\pi}}e^{\\frac{-(x-\\nu)^2}{2\\sigma^2}}.\n",
    "\\end{equation}"
   ]
  },
  {
   "cell_type": "code",
   "execution_count": 6,
   "metadata": {},
   "outputs": [],
   "source": [
    "def GaussianDer(x, v=3., sigma=1.):\n",
    "    return -(x - v) * np.exp(-(x - v)**2 / (2 * sigma**2)) / (np.sqrt(2 * np.pi) * sigma**3)"
   ]
  },
  {
   "cell_type": "markdown",
   "metadata": {},
   "source": [
    "We can now use this to check the accuracy of our schemes"
   ]
  },
  {
   "cell_type": "code",
   "execution_count": 7,
   "metadata": {},
   "outputs": [
    {
     "data": {
      "image/png": "[encoded data removed]",
      "text/plain": [
       "<Figure size 432x288 with 1 Axes>"
      ]
     },
     "metadata": {
      "needs_background": "light"
     },
     "output_type": "display_data"
    }
   ],
   "source": [
    "x, dx = np.linspace(0, 4*np.pi, 64, endpoint=False, retstep=True)\n",
    "f = Gaussian(x,sigma=1.,v=7.5)\n",
    "plt.plot(x, Compact(f, dx, \"PADE-4\"), 'x', markevery=1, label=\"Pade 4\")\n",
    "plt.plot(x, Compact(f, dx, \"PADE-6\"), 'o', mfc=\"None\", markevery=1, label=\"Pade 6\")\n",
    "x_sol = np.linspace(np.min(x), np.max(x), 1000, endpoint=False)\n",
    "plt.plot(x_sol, GaussianDer(x_sol, v=7.5, sigma=1.), label=\"Analytical\")\n",
    "plt.legend();"
   ]
  },
  {
   "cell_type": "code",
   "execution_count": 8,
   "metadata": {},
   "outputs": [],
   "source": [
    "norm = np.ones((5, 4))\n",
    "schemes = np.array([\"CDS-2\",\"CDS-4\",\"PADE-4\",\"PADE-6\"])\n",
    "resolutions = np.array([32,64,128,256])\n",
    "for i, scheme in enumerate(schemes):\n",
    "    for j, res in enumerate(resolutions):\n",
    "        x, dx = np.linspace(0, 4*np.pi, res, endpoint=False, retstep=True)\n",
    "        f = Gaussian(x, v=7.5, sigma=1.)\n",
    "        norm[i, j] = np.max(np.abs(Compact(f, dx, scheme)-GaussianDer(x, v=7.5, sigma=1.)))"
   ]
  },
  {
   "cell_type": "markdown",
   "metadata": {},
   "source": [
    "We look at the error of our method using the $L_\\infty$ norm\n",
    "\n",
    "$$\n",
    "    L_\\infty = \\max{\\vert u_h - u_e\\vert}\n",
    "$$\n",
    "\n",
    "where $u_h$ is the discretized solution, and $u_e$ is the exact solution."
   ]
  },
  {
   "cell_type": "code",
   "execution_count": 9,
   "metadata": {},
   "outputs": [
    {
     "data": {
      "image/png": "[encoded data removed]",
      "text/plain": [
       "<Figure size 432x288 with 1 Axes>"
      ]
     },
     "metadata": {
      "needs_background": "light"
     },
     "output_type": "display_data"
    }
   ],
   "source": [
    "col = ['-', '--', ':', '-.']\n",
    "for i, scheme in  enumerate(schemes):\n",
    "    plt.semilogy(resolutions, norm[i,:], label=scheme, c='k', linestyle=col[i])\n",
    "plt.xticks(resolutions)\n",
    "plt.legend(); plt.xlabel(\"Resolution\"); plt.ylabel(r\"$L_{\\infty}$ norm of the error\")\n",
    "plt.show()"
   ]
  },
  {
   "cell_type": "markdown",
   "metadata": {},
   "source": [
    "---\n",
    "\n",
    "## Spectral Equivalence\n",
    "\n",
    "It is easy to show that the Fourier coefficients $\\tilde{f}_l'$ associated with the Pade approximation presented earlier are linked to the Fourier coefficients\n",
    "\n",
    "$$\n",
    "    \\tilde{f}_l = \\frac{1}{n_x}\\sum_{j=1}^{n_x}f_j e^{-ik_xx_j}, \\quad \\text{for} \\; -n_x/2 < l <n_x/2-1,\n",
    "$$\n",
    "\n",
    "by the simple spectral relation\n",
    "\n",
    "$$\n",
    "    \\tilde{f}'_l = ik_x'\\tilde{f}_l,\n",
    "$$\n",
    "\n",
    "where $i$ is the imaginary number, and $k_x'$ is the modified wavenumber (for a spectral method those are the standard wavenumber). For compact schemes, the modified wavenumer are given by\n",
    "\n",
    "$$\n",
    "    k_x'\\Delta x = \\frac{a\\sin(k_x\\Delta x) + (b/2)\\sin(2k_x\\Delta x) +(c/3)\\sin(3k\\Delta x)}{1+2\\alpha\\cos(k_x\\Delta x) + 2\\beta\\cos(2k_x\\Delta x)}.\n",
    "$$"
   ]
  },
  {
   "cell_type": "code",
   "execution_count": 10,
   "metadata": {},
   "outputs": [],
   "source": [
    "def k_prime(kx, dx, alpha=1./3, beta=0., a=14./9, b=1./9, c=0.):\n",
    "    return ((a * np.sin(kx*dx) + (.5*b)*np.sin(2*kx*dx) + (c/3*np.sin(3*kx*dx)))/\n",
    "            (1 + 2*alpha*np.cos(kx*dx) + 2*beta*np.cos(2*kx*dx))) / dx"
   ]
  },
  {
   "cell_type": "markdown",
   "metadata": {},
   "source": [
    "The modified wavenumber represents the eigenvalues of the discrete operator. In this case, high wavenumber modes are dampended."
   ]
  },
  {
   "cell_type": "code",
   "execution_count": 11,
   "metadata": {},
   "outputs": [
    {
     "data": {
      "image/png": "[encoded data removed]",
      "text/plain": [
       "<Figure size 432x288 with 1 Axes>"
      ]
     },
     "metadata": {
      "needs_background": "light"
     },
     "output_type": "display_data"
    }
   ],
   "source": [
    "N = 256; L = 1; dx = L/N\n",
    "kx = np.fft.rfftfreq(N, d=1./N) * 2*np.pi / L\n",
    "coeffs = np.array([[0, 0, 1, 0, 0],\n",
    "                   [0, 0, 4./3, -1./3, 0],\n",
    "                   [1./4., 0., 3./2, 0, 0],\n",
    "                   [1./3, 0., 14./9, 1./9, 0.]])\n",
    "plt.plot(kx*dx, kx*dx, 'k')\n",
    "for i in range(4):\n",
    "    kx_p = k_prime(kx, dx, *coeffs[i,:])\n",
    "    plt.plot(kx*dx, kx_p*dx)\n",
    "plt.xlabel(r\"$k_x\\Delta x$\"); plt.ylabel(r\"$k_x'\\Delta x$\");\n",
    "plt.legend([\"Spectral\",\"CDS-2\",\"CDS-4\",\"Pade-4\",\"Pade-6\"]);"
   ]
  },
  {
   "cell_type": "markdown",
   "metadata": {},
   "source": [
    "This means that we can obtain a central difference scheme simply multiplying the corresponding fourier coefficients with the correct modified wavenumber for that scheme, without having to build a stencil, or invert a large matrix."
   ]
  },
  {
   "cell_type": "code",
   "execution_count": 12,
   "metadata": {},
   "outputs": [],
   "source": [
    "def spectral(a, dx):\n",
    "    \"\"\"\n",
    "    Takes the first derivative of a discrete periodic field a\n",
    "    using Fourier spectral colocation method\n",
    "    \n",
    "    \"\"\"\n",
    "    # length of array\n",
    "    N = len(a)\n",
    "    L = N * dx\n",
    "\n",
    "    # wavenumber\n",
    "    kx = np.fft.rfftfreq(N, d=1./N) * 2 * np.pi / L\n",
    "\n",
    "    # transform, differentiate, transform back\n",
    "    four = np.fft.irfft(1j* kx * np.fft.rfft(a))\n",
    "    \n",
    "    return four"
   ]
  },
  {
   "cell_type": "code",
   "execution_count": 13,
   "metadata": {},
   "outputs": [
    {
     "data": {
      "image/png": "[encoded data removed]",
      "text/plain": [
       "<Figure size 432x288 with 1 Axes>"
      ]
     },
     "metadata": {
      "needs_background": "light"
     },
     "output_type": "display_data"
    }
   ],
   "source": [
    "x, dx = np.linspace(0, 4*np.pi, 1024, endpoint=False, retstep=True)\n",
    "f = Gaussian(x,sigma=1.,v=7.5)\n",
    "plt.plot(x, f, label=\"function\")\n",
    "plt.plot(x, spectral(f, dx), '-x', markevery=20, label=\"Spectral\")\n",
    "x_sol = np.linspace(np.min(x), np.max(x), 1000, endpoint=False)\n",
    "plt.plot(x_sol, GaussianDer(x_sol, v=7.5, sigma=1.), label=\"Analytical\")\n",
    "plt.legend();"
   ]
  },
  {
   "cell_type": "code",
   "execution_count": 14,
   "metadata": {},
   "outputs": [],
   "source": [
    "def spectral_compact(f, dx):\n",
    "    \"\"\"\n",
    "    Takes the first derivative of a discrete periodic field f\n",
    "    using coompact scheme and modified wavenumber\n",
    "    \n",
    "    \"\"\"\n",
    "    # length of array\n",
    "    N = len(f)\n",
    "    L = N * dx\n",
    "\n",
    "    # wavenumber\n",
    "    kx = np.fft.rfftfreq(N, d=1./N) * 2*np.pi / L\n",
    "    # modified wavenumber\n",
    "    kx_p = k_prime(kx, dx)\n",
    "    # transform, differentiate, transform back\n",
    "    four = np.fft.irfft(1j* kx_p * np.fft.rfft(f))\n",
    "    \n",
    "    return four"
   ]
  },
  {
   "cell_type": "code",
   "execution_count": 15,
   "metadata": {},
   "outputs": [
    {
     "data": {
      "image/png": "[encoded data removed]",
      "text/plain": [
       "<Figure size 432x288 with 1 Axes>"
      ]
     },
     "metadata": {
      "needs_background": "light"
     },
     "output_type": "display_data"
    }
   ],
   "source": [
    "plt.plot(x, f, label=\"function\")\n",
    "plt.plot(x, spectral_compact(f, dx), '-x', markevery=20, label=\"Spectral/Compact\")\n",
    "x_sol = np.linspace(np.min(x), np.max(x), 1000, endpoint=False)\n",
    "plt.plot(x_sol, GaussianDer(x_sol, v=7.5, sigma=1.), label=\"Analytical\")\n",
    "plt.legend();"
   ]
  },
  {
   "cell_type": "markdown",
   "metadata": {},
   "source": [
    "These should be equivalent to the Pade approximation that we have computed earlier."
   ]
  },
  {
   "cell_type": "code",
   "execution_count": 16,
   "metadata": {},
   "outputs": [
    {
     "name": "stdout",
     "output_type": "stream",
     "text": [
      "All close? True\n",
      "L-inf norm: 8.9963e-15\n"
     ]
    }
   ],
   "source": [
    "print(\"All close?\", np.allclose(spectral_compact(f, dx), Compact(f, dx, \"PADE-6\")))\n",
    "print(\"L-inf norm: %.4e\" % np.max(np.abs(spectral_compact(f, dx) - Compact(f, dx, \"PADE-6\"))))"
   ]
  },
  {
   "cell_type": "markdown",
   "metadata": {},
   "source": [
    "How does that compare to the stencile-based compact scheme function?"
   ]
  },
  {
   "cell_type": "code",
   "execution_count": 17,
   "metadata": {},
   "outputs": [
    {
     "name": "stdout",
     "output_type": "stream",
     "text": [
      "423 µs ± 54.2 µs per loop (mean ± std. dev. of 7 runs, 1000 loops each)\n",
      "232 µs ± 26.6 µs per loop (mean ± std. dev. of 7 runs, 1000 loops each)\n"
     ]
    }
   ],
   "source": [
    "%timeit Compact(f, dx, \"PADE-6\")\n",
    "%timeit spectral_compact(f, dx)"
   ]
  },
  {
   "cell_type": "markdown",
   "metadata": {},
   "source": [
    "The spectral method is much faster! About three times. The other advantage is that is is very easily extended to higher-dimensions."
   ]
  },
  {
   "cell_type": "markdown",
   "metadata": {},
   "source": [
    "---\n",
    "\n",
    "## Optimal coefficients\n",
    "\n",
    "[Jae Wook Kim et el.](https://pdfs.semanticscholar.org/916c/3246fe4fd1c2a2e6dc387ce800f486df404d.pdf) derived coefficients for the compact schemes that maximise the resolution of each scheme by minimising the dispersive (phase) error of each scheme. It should be remembered that this does not change the truncation error of the scheme, only its dispersive errors.\n",
    "\n",
    "Here most of the schemes are tri-diagonal, even at low truncation error."
   ]
  },
  {
   "cell_type": "code",
   "execution_count": 18,
   "metadata": {},
   "outputs": [
    {
     "data": {
      "image/png": "[encoded data removed]",
      "text/plain": [
       "<Figure size 432x288 with 1 Axes>"
      ]
     },
     "metadata": {
      "needs_background": "light"
     },
     "output_type": "display_data"
    }
   ],
   "source": [
    "N = 256; L = 1; dx = L/N\n",
    "kx = np.fft.rfftfreq(N, d=1./N) * 2*np.pi / L\n",
    "coeffs = np.array([[0.450901855, 0., 1.545790417, 0.434249728, -0.078236437],\n",
    "                   [0.435181352, 0., 1.551941906, 0.361328195, -0.042907397],\n",
    "                   [0.408589269, 0., 1.568098212, 0.271657107, -0.022576781]])\n",
    "plt.plot(kx*dx, kx*dx, 'k')\n",
    "for i in range(coeffs.shape[0]):\n",
    "    kx_p = k_prime(kx, dx, *coeffs[i,:])\n",
    "    plt.plot(kx*dx, kx_p*dx)\n",
    "plt.xlabel(r\"$k_x\\Delta x$\"); plt.ylabel(r\"$k_x'\\Delta x$\");\n",
    "plt.legend([\"Spectral\",\"Pade-2\",\"Pade-4\",\"Pade-6\"]);"
   ]
  },
  {
   "cell_type": "markdown",
   "metadata": {},
   "source": [
    "---\n",
    "\n",
    "## Multi-Dimension version\n",
    "\n",
    "With little effort the previsou function can be extended to two and three dimensions. And we can still use the convolution theorem to solve the resulting tri-diagonal circulant system! (as loog as the field is prediodic)\n",
    "\n",
    "We will test it on the [Taylor-Green vortex](https://en.wikipedia.org/wiki/Taylor%E2%80%93Green_vortex) (here we only use a single component and generate a 2D field)\n",
    "\n",
    "$$\n",
    "    u = \\sin{(x)}\\cos{(4y)}\n",
    "$$"
   ]
  },
  {
   "cell_type": "code",
   "execution_count": 19,
   "metadata": {},
   "outputs": [],
   "source": [
    "x, dx = np.linspace(0, 2*np.pi, 256, retstep=True, endpoint=False)\n",
    "u = np.sin(x) * np.cos(4*x[:, np.newaxis])"
   ]
  },
  {
   "cell_type": "code",
   "execution_count": 20,
   "metadata": {},
   "outputs": [],
   "source": [
    "def Compact2D(f, dx, scheme=\"CDS-2\"):\n",
    "    \"\"\"\n",
    "    Second, fourth- and sixth-order compact scheme for first derivative of periodic field a:\n",
    "    \n",
    "    alpha*f'(i+1) + f'(i) + alpha*f'(i-1) = a*(f(i+1) - f(i-1)) + b*(f(i+2)  f(i-2))\n",
    "    \n",
    "    For Pade schemes, this results in a circulant tridiagonal matrix system which can \n",
    "    be solved using properties of the convolution and FFTs.\n",
    "    \n",
    "    Paramaters:\n",
    "        a     : array of float\n",
    "                values of the fiels at the grid points the array is assumed periodic\n",
    "                such that the periodic point is NOT included\n",
    "        dx    : float\n",
    "                grid spacing, must be constant\n",
    "        scheme: character string\n",
    "                desired scheme, default is CDS-2\n",
    "    Output:\n",
    "        diff : array of float\n",
    "               first derivative of the field\n",
    "    \n",
    "    Example:\n",
    "        x,dx=np.linspace(0,2*np.pi,1000,endpoint=False,retstep=True)\n",
    "        f=np.cos(x)\n",
    "        df=-np.sin(x)\n",
    "        print(np.allclose(Compact(f,dx, \"PADE-4\"),df))\n",
    "    \"\"\"\n",
    "    \n",
    "    # standard parameters for CDS-2\n",
    "    alpha = 0.; a  = 1./(2.*dx); b = 0.\n",
    "    \n",
    "    # adjust params otherwise\n",
    "    if scheme == \"CDS-4\":\n",
    "        alpha = 0.; a  = 2./(3.*dx); b = -1./(12.*dx)\n",
    "    if scheme == \"PADE-4\":\n",
    "        alpha = 0.25; a  = 3./(4.*dx); b = 0.\n",
    "    if scheme == \"PADE-6\":\n",
    "        alpha = 1./3.; a  = 14./(18.*dx); b = 1./(36.*dx)\n",
    "    \n",
    "    # temp array\n",
    "    sol = np.empty_like(f)\n",
    "    \n",
    "    # compact scheme on interior points\n",
    "    sol[:, 2:-2] = a * (f[:, 3:-1] - f[:, 1:-3]) + b * (f[:, 4:] - f[:, :-4])\n",
    "    \n",
    "    # boundary points\n",
    "    sol[:, -2] = a * (f[:, -1] - f[:, -3]) + b * (f[: , 0] - f[:, -4])\n",
    "    sol[:, -1] = a * (f[:,  0] - f[:, -2]) + b * (f[:,  1] - f[:, -3])\n",
    "    sol[:,  0] = a * (f[:,  1] - f[:, -1]) + b * (f[:,  2] - f[:, -2])\n",
    "    sol[:,  1] = a * (f[:,  2] - f[:,  0]) + b * (f[:,  3] - f[:, -1])\n",
    "    \n",
    "    # return\n",
    "    if alpha == 0.:\n",
    "\n",
    "        return sol\n",
    "\n",
    "    else:\n",
    "        # build first row of circulant Pade coefficients matrix\n",
    "        A = np.hstack((1., alpha, [0.*j for j in range(len(f)-3)], alpha))\n",
    "\n",
    "        # solve tri-diagonal system using FFTs and circulant matrix properties\n",
    "        diff = np.fft.irfft2(np.fft.rfft2(sol)/np.fft.rfft(A))\n",
    "   \n",
    "    return diff"
   ]
  },
  {
   "cell_type": "markdown",
   "metadata": {},
   "source": [
    "The exact solution of the gradients are\n",
    "$$\n",
    "\\begin{split}\n",
    "    \\frac{\\partial u}{\\partial x} &= \\cos{(x)} \\cos{(4y)}\\\\\n",
    "    \\frac{\\partial u}{\\partial y} &= -\\sin{(x)} 4\\sin{(4y)}\\\\\n",
    "\\end{split}\n",
    "$$\n",
    "Again, we will use the $L_{\\infty}$ norm of the error to check our implementation"
   ]
  },
  {
   "cell_type": "code",
   "execution_count": 21,
   "metadata": {},
   "outputs": [
    {
     "name": "stdout",
     "output_type": "stream",
     "text": [
      "Linf norm of the error for d/dx is 1.156e-13\n"
     ]
    }
   ],
   "source": [
    "dudx = Compact2D(u, dx, scheme=\"PADE-6\")\n",
    "print(\"Linf norm of the error for d/dx is %.3e\" % np.max(np.abs(dudx-np.cos(x)*np.cos(4*x[:,np.newaxis]))))"
   ]
  },
  {
   "cell_type": "code",
   "execution_count": 22,
   "metadata": {},
   "outputs": [
    {
     "name": "stdout",
     "output_type": "stream",
     "text": [
      "Linf norm of the error for d/dx is 1.707e-09\n"
     ]
    }
   ],
   "source": [
    "dudy = Compact2D(u.T, dx, scheme=\"PADE-6\").T\n",
    "print(\"Linf norm of the error for d/dx is %.3e\" % np.max(np.abs(dudy+np.sin(x)*4*np.sin(4*x[:,np.newaxis]))))"
   ]
  },
  {
   "cell_type": "markdown",
   "metadata": {},
   "source": [
    "Here, we have lost accuracy while doing the transpose."
   ]
  }
 ],
 "metadata": {
  "kernelspec": {
   "display_name": "Python 3",
   "language": "python",
   "name": "python3"
  },
  "language_info": {
   "codemirror_mode": {
    "name": "ipython",
    "version": 3
   },
   "file_extension": ".py",
   "mimetype": "text/x-python",
   "name": "python",
   "nbconvert_exporter": "python",
   "pygments_lexer": "ipython3",
   "version": "3.7.3"
  }
 },
 "nbformat": 4,
 "nbformat_minor": 2
}
